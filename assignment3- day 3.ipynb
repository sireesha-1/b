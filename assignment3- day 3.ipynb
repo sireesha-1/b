{
 "cells": [
  {
   "cell_type": "code",
   "execution_count": null,
   "metadata": {},
   "outputs": [
    {
     "name": "stdout",
     "output_type": "stream",
     "text": [
      "1741725\n",
      "2097280\n",
      "2097281\n",
      "3278756\n",
      "4210818\n",
      "4782969\n",
      "4861095\n",
      "9800817\n",
      "9926315\n",
      "16790338\n",
      "21816066\n",
      "24678050\n",
      "24678051\n",
      "26682755\n"
     ]
    }
   ],
   "source": [
    "for num in range(1042000,702648265):\n",
    "    sum=0\n",
    "    temp=num\n",
    "    count=0\n",
    "    order = len(str(temp))\n",
    "    while temp!=0 and temp>0:\n",
    "        j=temp%10\n",
    "        sum=sum+j**order\n",
    "        temp//=10\n",
    "        if(sum==num):\n",
    "            print(num)\n",
    "            count+=1\n",
    "        if(count==1):\n",
    "            break"
   ]
  },
  {
   "cell_type": "code",
   "execution_count": null,
   "metadata": {},
   "outputs": [],
   "source": []
  }
 ],
 "metadata": {
  "kernelspec": {
   "display_name": "Python 3",
   "language": "python",
   "name": "python3"
  },
  "language_info": {
   "codemirror_mode": {
    "name": "ipython",
    "version": 3
   },
   "file_extension": ".py",
   "mimetype": "text/x-python",
   "name": "python",
   "nbconvert_exporter": "python",
   "pygments_lexer": "ipython3",
   "version": "3.8.3"
  }
 },
 "nbformat": 4,
 "nbformat_minor": 4
}
